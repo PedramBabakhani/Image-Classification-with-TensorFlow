{
 "cells": [
  {
   "cell_type": "markdown",
   "metadata": {},
   "source": [
    "## Image Classification (CNN) with TensorFlow"
   ]
  },
  {
   "cell_type": "code",
   "execution_count": 1,
   "metadata": {},
   "outputs": [
    {
     "name": "stderr",
     "output_type": "stream",
     "text": [
      "Using TensorFlow backend.\n"
     ]
    },
    {
     "name": "stdout",
     "output_type": "stream",
     "text": [
      "curses is not supported on this machine (please install/reinstall curses for an optimal experience)\n"
     ]
    }
   ],
   "source": [
    "import numpy as np\n",
    "from keras.utils import np_utils\n",
    "from tflearn.data_utils import shuffle\n",
    "from tflearn.data_preprocessing import ImagePreprocessing\n",
    "from tflearn.data_augmentation import ImageAugmentation\n",
    "\n",
    "from keras.datasets import cifar10\n",
    "from keras.utils import np_utils\n",
    "from keras.optimizers import SGD, Adam, RMSprop\n",
    "from keras.models import Sequential\n",
    "from keras.layers.convolutional import Conv2D, MaxPooling2D\n",
    "from keras.layers import Convolution2D, MaxPooling2D\n",
    "from keras.layers.core import Dense, Flatten, Activation, Dropout\n",
    "import matplotlib.pyplot as plt\n",
    "% matplotlib inline"
   ]
  },
  {
   "cell_type": "code",
   "execution_count": 8,
   "metadata": {},
   "outputs": [],
   "source": [
    "(X_train, y_train) , (X_test, y_test) = cifar10.load_data()"
   ]
  },
  {
   "cell_type": "code",
   "execution_count": 3,
   "metadata": {},
   "outputs": [],
   "source": [
    "y_train = y_train.reshape(y_train.shape[0])\n",
    "y_test = y_test.reshape(y_test.shape[0])"
   ]
  },
  {
   "cell_type": "code",
   "execution_count": 26,
   "metadata": {},
   "outputs": [],
   "source": [
    "BATCH_SIZE = 128\n",
    "nb_epochs = 10\n",
    "VALIDATION_SPLIT = 0.2\n",
    "num_classes = 10"
   ]
  },
  {
   "cell_type": "code",
   "execution_count": 21,
   "metadata": {},
   "outputs": [],
   "source": [
    "\"One hot encoding Y values train and test:\"\n",
    "y_train = np_utils.to_categorical(y_train, num_classes)\n",
    "y_test = np_utils.to_categorical(y_test, num_classes)"
   ]
  },
  {
   "cell_type": "code",
   "execution_count": 9,
   "metadata": {},
   "outputs": [],
   "source": [
    "X_train = X_train.astype('float32')\n",
    "X_test = X_test.astype('float32')\n",
    "X_train /= 255\n",
    "X_test /= 255"
   ]
  },
  {
   "cell_type": "markdown",
   "metadata": {},
   "source": [
    "The cifar holds a dict object returned by unpickle. (read more about the dict object returned by the\n",
    "function at https://www.cs.utoronto.ca/~kriz/cifar.html).\n",
    "Note: Performance analysis with respect to the number of workers is not required in this exercise\n",
    "sheet.\n",
    "For this lab you will the network following architecture. You will build a network with the following\n",
    "components (see [6, 7] for more details about components)\n",
    "1. conv1: convolution and rectified linear activation (RELU)\n",
    "2. pool1: max pooling\n",
    "3. conv2: convolution and rectified linear activation (RELU)\n",
    "4. pool2: max pooling\n",
    "5. FC1: fully connected layer with rectified linear activation (RELU)\n",
    "6. FC2: fully connected layer with rectified linear activation (RELU)\n",
    "7. softmax layer: final output predictions i.e. classify into one of the ten classes.\n"
   ]
  },
  {
   "cell_type": "code",
   "execution_count": 22,
   "metadata": {},
   "outputs": [
    {
     "name": "stderr",
     "output_type": "stream",
     "text": [
      "C:\\Users\\Dell\\Anaconda3\\lib\\site-packages\\ipykernel\\__main__.py:3: UserWarning: Update your `Conv2D` call to the Keras 2 API: `Conv2D(32, (3, 3), input_shape=(32, 32, 3..., activation=\"relu\", padding=\"same\")`\n",
      "  app.launch_new_instance()\n",
      "C:\\Users\\Dell\\Anaconda3\\lib\\site-packages\\ipykernel\\__main__.py:5: UserWarning: Update your `Conv2D` call to the Keras 2 API: `Conv2D(32, (3, 3), activation=\"relu\", padding=\"same\")`\n"
     ]
    }
   ],
   "source": [
    "model1 = Sequential()\n",
    "model1.add(Convolution2D(32, 3, 3, input_shape=(32, 32, 3), border_mode='same', activation='relu'))\n",
    "model1.add(MaxPooling2D(pool_size=(2, 2)))\n",
    "model1.add(Convolution2D(32, 3, 3, activation='relu', border_mode='same'))\n",
    "model1.add(MaxPooling2D(pool_size=(2, 2)))\n",
    "model1.add(Flatten())\n",
    "model1.add(Dense(512, activation='relu'))\n",
    "model1.add(Dense(10, activation='softmax'))"
   ]
  },
  {
   "cell_type": "code",
   "execution_count": 24,
   "metadata": {},
   "outputs": [],
   "source": [
    "model1.compile(optimizer='sgd',loss='categorical_crossentropy',metrics=['accuracy'])"
   ]
  },
  {
   "cell_type": "code",
   "execution_count": 27,
   "metadata": {},
   "outputs": [
    {
     "name": "stdout",
     "output_type": "stream",
     "text": [
      "Train on 40000 samples, validate on 10000 samples\n",
      "Epoch 1/10\n",
      "40000/40000 [==============================] - 168s 4ms/step - loss: 2.0804 - acc: 0.2607 - val_loss: 1.9810 - val_acc: 0.3038\n",
      "Epoch 2/10\n",
      "40000/40000 [==============================] - 169s 4ms/step - loss: 1.8966 - acc: 0.3313 - val_loss: 1.8613 - val_acc: 0.3435\n",
      "Epoch 3/10\n",
      "40000/40000 [==============================] - 159s 4ms/step - loss: 1.7821 - acc: 0.3716 - val_loss: 1.7453 - val_acc: 0.3813\n",
      "Epoch 4/10\n",
      "40000/40000 [==============================] - 168s 4ms/step - loss: 1.6900 - acc: 0.4054 - val_loss: 1.7167 - val_acc: 0.3826\n",
      "Epoch 5/10\n",
      "40000/40000 [==============================] - 161s 4ms/step - loss: 1.6110 - acc: 0.4300 - val_loss: 1.6336 - val_acc: 0.4155\n",
      "Epoch 6/10\n",
      "40000/40000 [==============================] - 161s 4ms/step - loss: 1.5448 - acc: 0.4544 - val_loss: 1.5830 - val_acc: 0.4285\n",
      "Epoch 7/10\n",
      "40000/40000 [==============================] - 158s 4ms/step - loss: 1.4853 - acc: 0.4760 - val_loss: 1.5210 - val_acc: 0.4600\n",
      "Epoch 8/10\n",
      "40000/40000 [==============================] - 160s 4ms/step - loss: 1.4340 - acc: 0.4934 - val_loss: 1.4381 - val_acc: 0.4932\n",
      "Epoch 9/10\n",
      "40000/40000 [==============================] - 159s 4ms/step - loss: 1.3942 - acc: 0.5061 - val_loss: 1.4185 - val_acc: 0.5017\n",
      "Epoch 10/10\n",
      "40000/40000 [==============================] - 162s 4ms/step - loss: 1.3548 - acc: 0.5216 - val_loss: 1.4401 - val_acc: 0.4903\n"
     ]
    }
   ],
   "source": [
    "model_history  = model1.fit(X_train, y_train, \n",
    "                                 batch_size=BATCH_SIZE, epochs=nb_epochs, verbose=1,\n",
    "                                 callbacks=None, validation_split=VALIDATION_SPLIT)"
   ]
  },
  {
   "cell_type": "code",
   "execution_count": null,
   "metadata": {},
   "outputs": [],
   "source": []
  },
  {
   "cell_type": "code",
   "execution_count": 28,
   "metadata": {},
   "outputs": [
    {
     "data": {
      "image/png": "[encoded data removed]",
      "text/plain": [
       "<matplotlib.figure.Figure at 0x14280ee4e10>"
      ]
     },
     "metadata": {},
     "output_type": "display_data"
    }
   ],
   "source": [
    "plt.plot(model_history.history['acc'])\n",
    "plt.plot(model_history.history['val_acc'])\n",
    "plt.plot(model_history.history['loss'])\n",
    "plt.plot(model_history.history['val_loss'])\n",
    "plt.title(\"Model Accuracy\")\n",
    "plt.xlabel('Epoch')\n",
    "plt.ylabel('Accuracy')\n",
    "plt.legend(['train','val_acc','loss','val_loss'], loc = 'upper left')\n",
    "plt.show()"
   ]
  },
  {
   "cell_type": "markdown",
   "metadata": {},
   "source": [
    "The top two lines are representing `training` and `valiadtion accuracy` and the below two lines are representing `training loss` and the `validation loss`"
   ]
  },
  {
   "cell_type": "code",
   "execution_count": 52,
   "metadata": {},
   "outputs": [],
   "source": [
    "from keras.preprocessing.image import ImageDataGenerator\n",
    "from keras.callbacks import LearningRateScheduler, ModelCheckpoint, EarlyStopping"
   ]
  },
  {
   "cell_type": "code",
   "execution_count": 54,
   "metadata": {},
   "outputs": [],
   "source": [
    "datagen = ImageDataGenerator(zoom_range = 0.2,\n",
    "                            horizontal_flip = True)\n",
    "datagen.fit(X_train)\n",
    "model_aug = model1\n",
    "model_aug.compile(loss = 'categorical_crossentropy', optimizer = 'rmsprop', metrics= ['accuracy'])"
   ]
  },
  {
   "cell_type": "markdown",
   "metadata": {},
   "source": [
    "### Exercise - 02"
   ]
  },
  {
   "cell_type": "code",
   "execution_count": 56,
   "metadata": {},
   "outputs": [
    {
     "name": "stderr",
     "output_type": "stream",
     "text": [
      "C:\\Users\\Dell\\Anaconda3\\lib\\site-packages\\ipykernel\\__main__.py:2: UserWarning: Update your `Conv2D` call to the Keras 2 API: `Conv2D(32, (3, 3), input_shape=(32, 32, 3..., activation=\"relu\", padding=\"same\")`\n",
      "  from ipykernel import kernelapp as app\n",
      "C:\\Users\\Dell\\Anaconda3\\lib\\site-packages\\ipykernel\\__main__.py:5: UserWarning: Update your `Conv2D` call to the Keras 2 API: `Conv2D(32, (3, 3), activation=\"relu\", padding=\"same\")`\n"
     ]
    }
   ],
   "source": [
    "model_2 = Sequential()\n",
    "model_2.add(Convolution2D(32, 3, 3, input_shape=(32, 32, 3), border_mode='same', activation='relu'))\n",
    "model_2.add(MaxPooling2D(pool_size=(2, 2)))\n",
    "model_2.add(Dropout(0.5))\n",
    "model_2.add(Convolution2D(32, 3, 3, activation='relu', border_mode='same'))\n",
    "model_2.add(Dropout(0.5))\n",
    "model_2.add(MaxPooling2D(pool_size=(2, 2)))\n",
    "model_2.add(Flatten())\n",
    "model_2.add(Dense(512, activation='relu'))\n",
    "model_2.add(Dropout(0.5))\n",
    "model_2.add(Dense(10, activation='softmax'))"
   ]
  },
  {
   "cell_type": "code",
   "execution_count": 57,
   "metadata": {},
   "outputs": [],
   "source": [
    "model_2.compile(optimizer='rmsprop',\n",
    "              loss='categorical_crossentropy',\n",
    "              metrics=['accuracy'])"
   ]
  },
  {
   "cell_type": "code",
   "execution_count": 60,
   "metadata": {},
   "outputs": [
    {
     "name": "stdout",
     "output_type": "stream",
     "text": [
      "Train on 40000 samples, validate on 10000 samples\n",
      "Epoch 1/10\n",
      "40000/40000 [==============================] - 209s 5ms/step - loss: 2.2686 - acc: 0.1485 - val_loss: 2.1995 - val_acc: 0.2690\n",
      "Epoch 2/10\n",
      "40000/40000 [==============================] - 226s 6ms/step - loss: 2.0624 - acc: 0.2429 - val_loss: 2.0724 - val_acc: 0.3039\n",
      "Epoch 3/10\n",
      "40000/40000 [==============================] - 206s 5ms/step - loss: 1.9673 - acc: 0.2857 - val_loss: 1.9908 - val_acc: 0.3431\n",
      "Epoch 4/10\n",
      "40000/40000 [==============================] - 217s 5ms/step - loss: 1.9004 - acc: 0.3202 - val_loss: 1.9206 - val_acc: 0.3666\n",
      "Epoch 5/10\n",
      "40000/40000 [==============================] - 187s 5ms/step - loss: 1.8210 - acc: 0.3510 - val_loss: 1.8560 - val_acc: 0.3952\n",
      "Epoch 6/10\n",
      "40000/40000 [==============================] - 185s 5ms/step - loss: 1.7591 - acc: 0.3709 - val_loss: 1.7863 - val_acc: 0.4236\n",
      "Epoch 7/10\n",
      "40000/40000 [==============================] - 183s 5ms/step - loss: 1.7036 - acc: 0.3915 - val_loss: 1.7464 - val_acc: 0.4299\n",
      "Epoch 8/10\n",
      "40000/40000 [==============================] - 181s 5ms/step - loss: 1.6586 - acc: 0.4076 - val_loss: 1.7097 - val_acc: 0.4465\n",
      "Epoch 9/10\n",
      "40000/40000 [==============================] - 181s 5ms/step - loss: 1.6181 - acc: 0.4198 - val_loss: 1.6726 - val_acc: 0.4593\n",
      "Epoch 10/10\n",
      "40000/40000 [==============================] - 198s 5ms/step - loss: 1.5839 - acc: 0.4299 - val_loss: 1.6316 - val_acc: 0.4676\n"
     ]
    }
   ],
   "source": [
    "second_model_history  = model_2.fit(X_train, y_train, batch_size = BATCH_SIZE, epochs = nb_epochs,\n",
    "                           validation_split = VALIDATION_SPLIT, verbose = 1)"
   ]
  },
  {
   "cell_type": "code",
   "execution_count": 61,
   "metadata": {},
   "outputs": [
    {
     "data": {
      "image/png": "[encoded data removed]",
      "text/plain": [
       "<matplotlib.figure.Figure at 0x142b0985c88>"
      ]
     },
     "metadata": {},
     "output_type": "display_data"
    }
   ],
   "source": [
    "plt.plot(second_model_history.history['acc'])\n",
    "plt.plot(second_model_history.history['val_acc'])\n",
    "plt.plot(second_model_history.history['loss'])\n",
    "plt.plot(second_model_history.history['val_loss'])\n",
    "plt.title(\"Model Accuracy\")\n",
    "plt.xlabel('Epoch')\n",
    "plt.ylabel('Accuracy')\n",
    "plt.legend(['train','val_acc','loss','val_loss'], loc = 'upper left')\n",
    "plt.show()"
   ]
  },
  {
   "cell_type": "markdown",
   "metadata": {},
   "source": [
    "again the top two lines are representing `training` and `valiadtion accuracy` and the below two lines are representing `training loss` and the `validation loss`"
   ]
  },
  {
   "cell_type": "markdown",
   "metadata": {},
   "source": [
    "## Optimizer "
   ]
  },
  {
   "cell_type": "markdown",
   "metadata": {},
   "source": [
    "Optimization algorithms helps us to minimize (or maximize) an `Objective function` (another name for Error function) which is simply a mathematical function dependent on the Model’s internal learnable parameters which are used in computing the `target values(Y)` from the set of `predictors(X)` used in the model.\n",
    "\n",
    "For example — we call the `Weights(W)` and the `Bias(b)` values of the neural network as its internal learnable parameters which are used in computing the output values and are learned and updated in the direction of optimal solution i.e minimizing the Loss by the network’s training process and also play a major role in the training process of the Neural Network Model ."
   ]
  },
  {
   "cell_type": "code",
   "execution_count": 62,
   "metadata": {},
   "outputs": [
    {
     "name": "stderr",
     "output_type": "stream",
     "text": [
      "C:\\Users\\Dell\\Anaconda3\\lib\\site-packages\\ipykernel\\__main__.py:2: UserWarning: Update your `Conv2D` call to the Keras 2 API: `Conv2D(32, (3, 3), input_shape=(32, 32, 3..., activation=\"relu\", padding=\"same\")`\n",
      "  from ipykernel import kernelapp as app\n",
      "C:\\Users\\Dell\\Anaconda3\\lib\\site-packages\\ipykernel\\__main__.py:5: UserWarning: Update your `Conv2D` call to the Keras 2 API: `Conv2D(32, (3, 3), activation=\"relu\", padding=\"same\")`\n"
     ]
    }
   ],
   "source": [
    "model_3 = Sequential()\n",
    "model_3.add(Convolution2D(32, 3, 3, input_shape=(32, 32, 3), border_mode='same', activation='relu'))\n",
    "model_3.add(MaxPooling2D(pool_size=(2, 2)))\n",
    "model_3.add(Dropout(0.5))\n",
    "model_3.add(Convolution2D(32, 3, 3, activation='relu', border_mode='same'))\n",
    "model_3.add(Dropout(0.5))\n",
    "model_3.add(MaxPooling2D(pool_size=(2, 2)))\n",
    "model_3.add(Flatten())\n",
    "model_3.add(Dense(512, activation='relu'))\n",
    "model_3.add(Dropout(0.5))\n",
    "model_3.add(Dense(10, activation='softmax'))"
   ]
  },
  {
   "cell_type": "code",
   "execution_count": 63,
   "metadata": {},
   "outputs": [],
   "source": [
    "model_3.compile(optimizer='adam',\n",
    "              loss='categorical_crossentropy',\n",
    "              metrics=['accuracy'])"
   ]
  },
  {
   "cell_type": "markdown",
   "metadata": {},
   "source": [
    "Adam stands for Adaptive Moment Estimation. Adaptive Moment Estimation (Adam) is another method that computes adaptive learning rates for each parameter. In addition to storing an exponentially decaying average of past squared gradients like AdaDelta ,Adam also keeps an exponentially decaying average of past gradients M(t), similar to momentum."
   ]
  },
  {
   "cell_type": "code",
   "execution_count": 64,
   "metadata": {},
   "outputs": [
    {
     "name": "stdout",
     "output_type": "stream",
     "text": [
      "Train on 40000 samples, validate on 10000 samples\n",
      "Epoch 1/10\n",
      "40000/40000 [==============================] - 194s 5ms/step - loss: 1.7490 - acc: 0.3641 - val_loss: 1.5698 - val_acc: 0.4634\n",
      "Epoch 2/10\n",
      "40000/40000 [==============================] - 205s 5ms/step - loss: 1.4083 - acc: 0.4933 - val_loss: 1.4182 - val_acc: 0.5570\n",
      "Epoch 3/10\n",
      "40000/40000 [==============================] - 199s 5ms/step - loss: 1.2828 - acc: 0.5412 - val_loss: 1.2925 - val_acc: 0.5860\n",
      "Epoch 4/10\n",
      "40000/40000 [==============================] - 201s 5ms/step - loss: 1.2034 - acc: 0.5668 - val_loss: 1.2052 - val_acc: 0.6254\n",
      "Epoch 5/10\n",
      "40000/40000 [==============================] - 194s 5ms/step - loss: 1.1331 - acc: 0.5951 - val_loss: 1.1477 - val_acc: 0.6432\n",
      "Epoch 6/10\n",
      "40000/40000 [==============================] - 192s 5ms/step - loss: 1.0863 - acc: 0.6127 - val_loss: 1.0823 - val_acc: 0.6582\n",
      "Epoch 7/10\n",
      "40000/40000 [==============================] - 192s 5ms/step - loss: 1.0433 - acc: 0.6300 - val_loss: 1.0737 - val_acc: 0.6674\n",
      "Epoch 8/10\n",
      "40000/40000 [==============================] - 187s 5ms/step - loss: 1.0190 - acc: 0.6384 - val_loss: 1.0183 - val_acc: 0.6735\n",
      "Epoch 9/10\n",
      "40000/40000 [==============================] - 187s 5ms/step - loss: 0.9781 - acc: 0.6538 - val_loss: 0.9957 - val_acc: 0.6847\n",
      "Epoch 10/10\n",
      "40000/40000 [==============================] - 215s 5ms/step - loss: 0.9579 - acc: 0.6643 - val_loss: 0.9607 - val_acc: 0.6939\n"
     ]
    }
   ],
   "source": [
    "third_model_history  = model_3.fit(X_train, y_train, batch_size = BATCH_SIZE, epochs = 10,\n",
    "                           validation_split = VALIDATION_SPLIT, verbose = 1)"
   ]
  },
  {
   "cell_type": "code",
   "execution_count": 67,
   "metadata": {},
   "outputs": [
    {
     "data": {
      "image/png": "[encoded data removed]",
      "text/plain": [
       "<matplotlib.figure.Figure at 0x142b0912978>"
      ]
     },
     "metadata": {},
     "output_type": "display_data"
    }
   ],
   "source": [
    "plt.plot(second_model_history.history['acc'])\n",
    "plt.plot(third_model_history.history['val_acc'])\n",
    "plt.title(\"Model Accuracy\")\n",
    "plt.xlabel('Epoch')\n",
    "plt.ylabel('Accuracy')\n",
    "plt.legend(['RMSprop','Adam',], loc = 'upper left')\n",
    "plt.show()"
   ]
  },
  {
   "cell_type": "markdown",
   "metadata": {},
   "source": [
    "Adam is performing better thatn RMSprop "
   ]
  },
  {
   "cell_type": "code",
   "execution_count": null,
   "metadata": {},
   "outputs": [],
   "source": []
  }
 ],
 "metadata": {
  "anaconda-cloud": {},
  "kernelspec": {
   "display_name": "Python 3",
   "language": "python",
   "name": "python3"
  },
  "language_info": {
   "codemirror_mode": {
    "name": "ipython",
    "version": 3
   },
   "file_extension": ".py",
   "mimetype": "text/x-python",
   "name": "python",
   "nbconvert_exporter": "python",
   "pygments_lexer": "ipython3",
   "version": "3.7.3"
  }
 },
 "nbformat": 4,
 "nbformat_minor": 2
}
